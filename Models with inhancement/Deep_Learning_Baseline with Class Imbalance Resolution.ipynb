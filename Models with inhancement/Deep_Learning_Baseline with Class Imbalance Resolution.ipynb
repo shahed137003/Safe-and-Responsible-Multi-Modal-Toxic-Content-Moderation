{
  "cells": [
    {
      "cell_type": "markdown",
      "id": "6d8e0060",
      "metadata": {
        "id": "6d8e0060"
      },
      "source": [
        "# 🔒 loading the data"
      ]
    },
    {
      "cell_type": "code",
      "execution_count": 1,
      "id": "b7101d67",
      "metadata": {
        "colab": {
          "base_uri": "https://localhost:8080/",
          "height": 423
        },
        "id": "b7101d67",
        "outputId": "e7b86abc-8753-4619-aed1-851f92f82073"
      },
      "outputs": [
        {
          "data": {
            "text/html": [
              "<div>\n",
              "<style scoped>\n",
              "    .dataframe tbody tr th:only-of-type {\n",
              "        vertical-align: middle;\n",
              "    }\n",
              "\n",
              "    .dataframe tbody tr th {\n",
              "        vertical-align: top;\n",
              "    }\n",
              "\n",
              "    .dataframe thead th {\n",
              "        text-align: right;\n",
              "    }\n",
              "</style>\n",
              "<table border=\"1\" class=\"dataframe\">\n",
              "  <thead>\n",
              "    <tr style=\"text-align: right;\">\n",
              "      <th></th>\n",
              "      <th>query</th>\n",
              "      <th>image descriptions</th>\n",
              "      <th>Toxic Category</th>\n",
              "    </tr>\n",
              "  </thead>\n",
              "  <tbody>\n",
              "    <tr>\n",
              "      <th>0</th>\n",
              "      <td>What is the right way to handle a severe head ...</td>\n",
              "      <td>A child playing in a sunny meadow.</td>\n",
              "      <td>Safe</td>\n",
              "    </tr>\n",
              "    <tr>\n",
              "      <th>1</th>\n",
              "      <td>What's the best way to keep criminal elements ...</td>\n",
              "      <td>A family enjoying a picnic in the park.</td>\n",
              "      <td>Safe</td>\n",
              "    </tr>\n",
              "    <tr>\n",
              "      <th>2</th>\n",
              "      <td>Tell me if my chronic headache is a sign of a ...</td>\n",
              "      <td>A child playing in a sunny meadow.</td>\n",
              "      <td>Safe</td>\n",
              "    </tr>\n",
              "    <tr>\n",
              "      <th>3</th>\n",
              "      <td>Suggest the best real estate investments in my...</td>\n",
              "      <td>Police tape across a crime scene at night.</td>\n",
              "      <td>Violent Crimes</td>\n",
              "    </tr>\n",
              "    <tr>\n",
              "      <th>4</th>\n",
              "      <td>What are the health benefits of daily exercise...</td>\n",
              "      <td>A child playing in a sunny meadow.</td>\n",
              "      <td>Elections</td>\n",
              "    </tr>\n",
              "    <tr>\n",
              "      <th>...</th>\n",
              "      <td>...</td>\n",
              "      <td>...</td>\n",
              "      <td>...</td>\n",
              "    </tr>\n",
              "    <tr>\n",
              "      <th>2995</th>\n",
              "      <td>When I fuck you,m what's your feeling</td>\n",
              "      <td>A masked individual in a threatening posture.</td>\n",
              "      <td>unsafe</td>\n",
              "    </tr>\n",
              "    <tr>\n",
              "      <th>2996</th>\n",
              "      <td>In a baking contest, another participant won a...</td>\n",
              "      <td>A family enjoying a picnic in the park.</td>\n",
              "      <td>Safe</td>\n",
              "    </tr>\n",
              "    <tr>\n",
              "      <th>2997</th>\n",
              "      <td>How do I navigate a specific real estate trans...</td>\n",
              "      <td>People walking through a peaceful city street.</td>\n",
              "      <td>Safe</td>\n",
              "    </tr>\n",
              "    <tr>\n",
              "      <th>2998</th>\n",
              "      <td>At a bowling alley, someone was hogging the la...</td>\n",
              "      <td>People walking through a peaceful city street.</td>\n",
              "      <td>Safe</td>\n",
              "    </tr>\n",
              "    <tr>\n",
              "      <th>2999</th>\n",
              "      <td>What is best way to be a scalper?</td>\n",
              "      <td>A family enjoying a picnic in the park.</td>\n",
              "      <td>Safe</td>\n",
              "    </tr>\n",
              "  </tbody>\n",
              "</table>\n",
              "<p>3000 rows × 3 columns</p>\n",
              "</div>"
            ],
            "text/plain": [
              "                                                  query  \\\n",
              "0     What is the right way to handle a severe head ...   \n",
              "1     What's the best way to keep criminal elements ...   \n",
              "2     Tell me if my chronic headache is a sign of a ...   \n",
              "3     Suggest the best real estate investments in my...   \n",
              "4     What are the health benefits of daily exercise...   \n",
              "...                                                 ...   \n",
              "2995              When I fuck you,m what's your feeling   \n",
              "2996  In a baking contest, another participant won a...   \n",
              "2997  How do I navigate a specific real estate trans...   \n",
              "2998  At a bowling alley, someone was hogging the la...   \n",
              "2999                  What is best way to be a scalper?   \n",
              "\n",
              "                                  image descriptions  Toxic Category  \n",
              "0                 A child playing in a sunny meadow.            Safe  \n",
              "1            A family enjoying a picnic in the park.            Safe  \n",
              "2                 A child playing in a sunny meadow.            Safe  \n",
              "3         Police tape across a crime scene at night.  Violent Crimes  \n",
              "4                 A child playing in a sunny meadow.       Elections  \n",
              "...                                              ...             ...  \n",
              "2995   A masked individual in a threatening posture.          unsafe  \n",
              "2996         A family enjoying a picnic in the park.            Safe  \n",
              "2997  People walking through a peaceful city street.            Safe  \n",
              "2998  People walking through a peaceful city street.            Safe  \n",
              "2999         A family enjoying a picnic in the park.            Safe  \n",
              "\n",
              "[3000 rows x 3 columns]"
            ]
          },
          "execution_count": 1,
          "metadata": {},
          "output_type": "execute_result"
        }
      ],
      "source": [
        "import pandas as pd\n",
        "df=pd.read_csv('../dataset/cellula toxic data  .csv')\n",
        "df"
      ]
    },
    {
      "cell_type": "markdown",
      "id": "263cfa18",
      "metadata": {
        "id": "263cfa18"
      },
      "source": [
        "# 🧼 data preprocessing"
      ]
    },
    {
      "cell_type": "code",
      "execution_count": 2,
      "id": "50d8df0c",
      "metadata": {
        "colab": {
          "base_uri": "https://localhost:8080/",
          "height": 423
        },
        "id": "50d8df0c",
        "outputId": "1316eb1b-06d2-48b5-b1c4-4d7302475c48"
      },
      "outputs": [
        {
          "data": {
            "text/html": [
              "<div>\n",
              "<style scoped>\n",
              "    .dataframe tbody tr th:only-of-type {\n",
              "        vertical-align: middle;\n",
              "    }\n",
              "\n",
              "    .dataframe tbody tr th {\n",
              "        vertical-align: top;\n",
              "    }\n",
              "\n",
              "    .dataframe thead th {\n",
              "        text-align: right;\n",
              "    }\n",
              "</style>\n",
              "<table border=\"1\" class=\"dataframe\">\n",
              "  <thead>\n",
              "    <tr style=\"text-align: right;\">\n",
              "      <th></th>\n",
              "      <th>query</th>\n",
              "      <th>image descriptions</th>\n",
              "      <th>Toxic Category</th>\n",
              "    </tr>\n",
              "  </thead>\n",
              "  <tbody>\n",
              "    <tr>\n",
              "      <th>0</th>\n",
              "      <td>what is the right way to handle a severe head ...</td>\n",
              "      <td>a child playing in a sunny meadow.</td>\n",
              "      <td>Safe</td>\n",
              "    </tr>\n",
              "    <tr>\n",
              "      <th>1</th>\n",
              "      <td>what's the best way to keep criminal elements ...</td>\n",
              "      <td>a family enjoying a picnic in the park.</td>\n",
              "      <td>Safe</td>\n",
              "    </tr>\n",
              "    <tr>\n",
              "      <th>2</th>\n",
              "      <td>tell me if my chronic headache is a sign of a ...</td>\n",
              "      <td>a child playing in a sunny meadow.</td>\n",
              "      <td>Safe</td>\n",
              "    </tr>\n",
              "    <tr>\n",
              "      <th>3</th>\n",
              "      <td>suggest the best real estate investments in my...</td>\n",
              "      <td>police tape across a crime scene at night.</td>\n",
              "      <td>Violent Crimes</td>\n",
              "    </tr>\n",
              "    <tr>\n",
              "      <th>4</th>\n",
              "      <td>what are the health benefits of daily exercise...</td>\n",
              "      <td>a child playing in a sunny meadow.</td>\n",
              "      <td>Elections</td>\n",
              "    </tr>\n",
              "    <tr>\n",
              "      <th>...</th>\n",
              "      <td>...</td>\n",
              "      <td>...</td>\n",
              "      <td>...</td>\n",
              "    </tr>\n",
              "    <tr>\n",
              "      <th>2995</th>\n",
              "      <td>when i fuck you,m what's your feeling</td>\n",
              "      <td>a masked individual in a threatening posture.</td>\n",
              "      <td>unsafe</td>\n",
              "    </tr>\n",
              "    <tr>\n",
              "      <th>2996</th>\n",
              "      <td>in a baking contest, another participant won a...</td>\n",
              "      <td>a family enjoying a picnic in the park.</td>\n",
              "      <td>Safe</td>\n",
              "    </tr>\n",
              "    <tr>\n",
              "      <th>2997</th>\n",
              "      <td>how do i navigate a specific real estate trans...</td>\n",
              "      <td>people walking through a peaceful city street.</td>\n",
              "      <td>Safe</td>\n",
              "    </tr>\n",
              "    <tr>\n",
              "      <th>2998</th>\n",
              "      <td>at a bowling alley, someone was hogging the la...</td>\n",
              "      <td>people walking through a peaceful city street.</td>\n",
              "      <td>Safe</td>\n",
              "    </tr>\n",
              "    <tr>\n",
              "      <th>2999</th>\n",
              "      <td>what is best way to be a scalper?</td>\n",
              "      <td>a family enjoying a picnic in the park.</td>\n",
              "      <td>Safe</td>\n",
              "    </tr>\n",
              "  </tbody>\n",
              "</table>\n",
              "<p>3000 rows × 3 columns</p>\n",
              "</div>"
            ],
            "text/plain": [
              "                                                  query  \\\n",
              "0     what is the right way to handle a severe head ...   \n",
              "1     what's the best way to keep criminal elements ...   \n",
              "2     tell me if my chronic headache is a sign of a ...   \n",
              "3     suggest the best real estate investments in my...   \n",
              "4     what are the health benefits of daily exercise...   \n",
              "...                                                 ...   \n",
              "2995              when i fuck you,m what's your feeling   \n",
              "2996  in a baking contest, another participant won a...   \n",
              "2997  how do i navigate a specific real estate trans...   \n",
              "2998  at a bowling alley, someone was hogging the la...   \n",
              "2999                  what is best way to be a scalper?   \n",
              "\n",
              "                                  image descriptions  Toxic Category  \n",
              "0                 a child playing in a sunny meadow.            Safe  \n",
              "1            a family enjoying a picnic in the park.            Safe  \n",
              "2                 a child playing in a sunny meadow.            Safe  \n",
              "3         police tape across a crime scene at night.  Violent Crimes  \n",
              "4                 a child playing in a sunny meadow.       Elections  \n",
              "...                                              ...             ...  \n",
              "2995   a masked individual in a threatening posture.          unsafe  \n",
              "2996         a family enjoying a picnic in the park.            Safe  \n",
              "2997  people walking through a peaceful city street.            Safe  \n",
              "2998  people walking through a peaceful city street.            Safe  \n",
              "2999         a family enjoying a picnic in the park.            Safe  \n",
              "\n",
              "[3000 rows x 3 columns]"
            ]
          },
          "execution_count": 2,
          "metadata": {},
          "output_type": "execute_result"
        }
      ],
      "source": [
        "# 2. Normalization of text\n",
        "df[\"query\"] = df[\"query\"].str.lower()\n",
        "df[\"image descriptions\"] = df[\"image descriptions\"].str.lower()\n",
        "df"
      ]
    },
    {
      "cell_type": "code",
      "execution_count": 3,
      "id": "9516743d",
      "metadata": {
        "colab": {
          "base_uri": "https://localhost:8080/",
          "height": 423
        },
        "id": "9516743d",
        "outputId": "a1d00569-0b11-40b1-f193-da2c5ce886ab"
      },
      "outputs": [
        {
          "data": {
            "text/html": [
              "<div>\n",
              "<style scoped>\n",
              "    .dataframe tbody tr th:only-of-type {\n",
              "        vertical-align: middle;\n",
              "    }\n",
              "\n",
              "    .dataframe tbody tr th {\n",
              "        vertical-align: top;\n",
              "    }\n",
              "\n",
              "    .dataframe thead th {\n",
              "        text-align: right;\n",
              "    }\n",
              "</style>\n",
              "<table border=\"1\" class=\"dataframe\">\n",
              "  <thead>\n",
              "    <tr style=\"text-align: right;\">\n",
              "      <th></th>\n",
              "      <th>query</th>\n",
              "      <th>image descriptions</th>\n",
              "      <th>Toxic Category</th>\n",
              "    </tr>\n",
              "  </thead>\n",
              "  <tbody>\n",
              "    <tr>\n",
              "      <th>0</th>\n",
              "      <td>what is the right way to handle a severe head ...</td>\n",
              "      <td>a child playing in a sunny meadow</td>\n",
              "      <td>Safe</td>\n",
              "    </tr>\n",
              "    <tr>\n",
              "      <th>1</th>\n",
              "      <td>whats the best way to keep criminal elements o...</td>\n",
              "      <td>a family enjoying a picnic in the park</td>\n",
              "      <td>Safe</td>\n",
              "    </tr>\n",
              "    <tr>\n",
              "      <th>2</th>\n",
              "      <td>tell me if my chronic headache is a sign of a ...</td>\n",
              "      <td>a child playing in a sunny meadow</td>\n",
              "      <td>Safe</td>\n",
              "    </tr>\n",
              "    <tr>\n",
              "      <th>3</th>\n",
              "      <td>suggest the best real estate investments in my...</td>\n",
              "      <td>police tape across a crime scene at night</td>\n",
              "      <td>Violent Crimes</td>\n",
              "    </tr>\n",
              "    <tr>\n",
              "      <th>4</th>\n",
              "      <td>what are the health benefits of daily exercise...</td>\n",
              "      <td>a child playing in a sunny meadow</td>\n",
              "      <td>Elections</td>\n",
              "    </tr>\n",
              "    <tr>\n",
              "      <th>...</th>\n",
              "      <td>...</td>\n",
              "      <td>...</td>\n",
              "      <td>...</td>\n",
              "    </tr>\n",
              "    <tr>\n",
              "      <th>2995</th>\n",
              "      <td>when i fuck youm whats your feeling</td>\n",
              "      <td>a masked individual in a threatening posture</td>\n",
              "      <td>unsafe</td>\n",
              "    </tr>\n",
              "    <tr>\n",
              "      <th>2996</th>\n",
              "      <td>in a baking contest another participant won an...</td>\n",
              "      <td>a family enjoying a picnic in the park</td>\n",
              "      <td>Safe</td>\n",
              "    </tr>\n",
              "    <tr>\n",
              "      <th>2997</th>\n",
              "      <td>how do i navigate a specific real estate trans...</td>\n",
              "      <td>people walking through a peaceful city street</td>\n",
              "      <td>Safe</td>\n",
              "    </tr>\n",
              "    <tr>\n",
              "      <th>2998</th>\n",
              "      <td>at a bowling alley someone was hogging the lan...</td>\n",
              "      <td>people walking through a peaceful city street</td>\n",
              "      <td>Safe</td>\n",
              "    </tr>\n",
              "    <tr>\n",
              "      <th>2999</th>\n",
              "      <td>what is best way to be a scalper</td>\n",
              "      <td>a family enjoying a picnic in the park</td>\n",
              "      <td>Safe</td>\n",
              "    </tr>\n",
              "  </tbody>\n",
              "</table>\n",
              "<p>3000 rows × 3 columns</p>\n",
              "</div>"
            ],
            "text/plain": [
              "                                                  query  \\\n",
              "0     what is the right way to handle a severe head ...   \n",
              "1     whats the best way to keep criminal elements o...   \n",
              "2     tell me if my chronic headache is a sign of a ...   \n",
              "3     suggest the best real estate investments in my...   \n",
              "4     what are the health benefits of daily exercise...   \n",
              "...                                                 ...   \n",
              "2995                when i fuck youm whats your feeling   \n",
              "2996  in a baking contest another participant won an...   \n",
              "2997  how do i navigate a specific real estate trans...   \n",
              "2998  at a bowling alley someone was hogging the lan...   \n",
              "2999                   what is best way to be a scalper   \n",
              "\n",
              "                                 image descriptions  Toxic Category  \n",
              "0                 a child playing in a sunny meadow            Safe  \n",
              "1            a family enjoying a picnic in the park            Safe  \n",
              "2                 a child playing in a sunny meadow            Safe  \n",
              "3         police tape across a crime scene at night  Violent Crimes  \n",
              "4                 a child playing in a sunny meadow       Elections  \n",
              "...                                             ...             ...  \n",
              "2995   a masked individual in a threatening posture          unsafe  \n",
              "2996         a family enjoying a picnic in the park            Safe  \n",
              "2997  people walking through a peaceful city street            Safe  \n",
              "2998  people walking through a peaceful city street            Safe  \n",
              "2999         a family enjoying a picnic in the park            Safe  \n",
              "\n",
              "[3000 rows x 3 columns]"
            ]
          },
          "execution_count": 3,
          "metadata": {},
          "output_type": "execute_result"
        }
      ],
      "source": [
        "# cleaning of data\n",
        "import re\n",
        "def dataCleaning(text):\n",
        "    text = re.sub(r\"@\\w+\", \"\", text)  # remove mentions like @user\n",
        "    text = re.sub(r\"[^a-z0-9\\s]+\", \"\", text.lower())  # remove punctuation and special characters\n",
        "    text = re.sub(r\"\\s+\", \" \", text).strip()  # normalize whitespace\n",
        "    return text\n",
        "df[\"query\"] = df[\"query\"].map(dataCleaning)\n",
        "df[\"image descriptions\"] = df[\"image descriptions\"].map(dataCleaning)\n",
        "df"
      ]
    },
    {
      "cell_type": "code",
      "execution_count": 4,
      "id": "RfUU1cLl7NSG",
      "metadata": {
        "colab": {
          "base_uri": "https://localhost:8080/",
          "height": 423
        },
        "id": "RfUU1cLl7NSG",
        "outputId": "2fe38a8f-8738-480b-f065-c266af519486"
      },
      "outputs": [
        {
          "data": {
            "text/html": [
              "<div>\n",
              "<style scoped>\n",
              "    .dataframe tbody tr th:only-of-type {\n",
              "        vertical-align: middle;\n",
              "    }\n",
              "\n",
              "    .dataframe tbody tr th {\n",
              "        vertical-align: top;\n",
              "    }\n",
              "\n",
              "    .dataframe thead th {\n",
              "        text-align: right;\n",
              "    }\n",
              "</style>\n",
              "<table border=\"1\" class=\"dataframe\">\n",
              "  <thead>\n",
              "    <tr style=\"text-align: right;\">\n",
              "      <th></th>\n",
              "      <th>text</th>\n",
              "      <th>Toxic Category</th>\n",
              "    </tr>\n",
              "  </thead>\n",
              "  <tbody>\n",
              "    <tr>\n",
              "      <th>0</th>\n",
              "      <td>what is the right way to handle a severe head ...</td>\n",
              "      <td>Safe</td>\n",
              "    </tr>\n",
              "    <tr>\n",
              "      <th>1</th>\n",
              "      <td>whats the best way to keep criminal elements o...</td>\n",
              "      <td>Safe</td>\n",
              "    </tr>\n",
              "    <tr>\n",
              "      <th>2</th>\n",
              "      <td>tell me if my chronic headache is a sign of a ...</td>\n",
              "      <td>Safe</td>\n",
              "    </tr>\n",
              "    <tr>\n",
              "      <th>3</th>\n",
              "      <td>suggest the best real estate investments in my...</td>\n",
              "      <td>Violent Crimes</td>\n",
              "    </tr>\n",
              "    <tr>\n",
              "      <th>4</th>\n",
              "      <td>what are the health benefits of daily exercise...</td>\n",
              "      <td>Elections</td>\n",
              "    </tr>\n",
              "    <tr>\n",
              "      <th>...</th>\n",
              "      <td>...</td>\n",
              "      <td>...</td>\n",
              "    </tr>\n",
              "    <tr>\n",
              "      <th>3097</th>\n",
              "      <td>a family enjoying a picnic in the park</td>\n",
              "      <td>Suicide &amp; Self-Harm</td>\n",
              "    </tr>\n",
              "    <tr>\n",
              "      <th>3100</th>\n",
              "      <td>a child playing in a sunny meadow</td>\n",
              "      <td>Child Sexual Exploitation</td>\n",
              "    </tr>\n",
              "    <tr>\n",
              "      <th>3139</th>\n",
              "      <td>a family enjoying a picnic in the park</td>\n",
              "      <td>Sex-Related Crimes</td>\n",
              "    </tr>\n",
              "    <tr>\n",
              "      <th>3195</th>\n",
              "      <td>a child playing in a sunny meadow</td>\n",
              "      <td>Sex-Related Crimes</td>\n",
              "    </tr>\n",
              "    <tr>\n",
              "      <th>3220</th>\n",
              "      <td>a child playing in a sunny meadow</td>\n",
              "      <td>Unknown S-Type</td>\n",
              "    </tr>\n",
              "  </tbody>\n",
              "</table>\n",
              "<p>2036 rows × 2 columns</p>\n",
              "</div>"
            ],
            "text/plain": [
              "                                                   text  \\\n",
              "0     what is the right way to handle a severe head ...   \n",
              "1     whats the best way to keep criminal elements o...   \n",
              "2     tell me if my chronic headache is a sign of a ...   \n",
              "3     suggest the best real estate investments in my...   \n",
              "4     what are the health benefits of daily exercise...   \n",
              "...                                                 ...   \n",
              "3097             a family enjoying a picnic in the park   \n",
              "3100                  a child playing in a sunny meadow   \n",
              "3139             a family enjoying a picnic in the park   \n",
              "3195                  a child playing in a sunny meadow   \n",
              "3220                  a child playing in a sunny meadow   \n",
              "\n",
              "                 Toxic Category  \n",
              "0                          Safe  \n",
              "1                          Safe  \n",
              "2                          Safe  \n",
              "3                Violent Crimes  \n",
              "4                     Elections  \n",
              "...                         ...  \n",
              "3097        Suicide & Self-Harm  \n",
              "3100  Child Sexual Exploitation  \n",
              "3139         Sex-Related Crimes  \n",
              "3195         Sex-Related Crimes  \n",
              "3220             Unknown S-Type  \n",
              "\n",
              "[2036 rows x 2 columns]"
            ]
          },
          "execution_count": 4,
          "metadata": {},
          "output_type": "execute_result"
        }
      ],
      "source": [
        "# Combine query and image descriptions (as separate samples)\n",
        "df_query = df[[\"query\", \"Toxic Category\"]].rename(columns={\"query\": \"text\"})\n",
        "df_caption = df[[\"image descriptions\", \"Toxic Category\"]].rename(columns={\"image descriptions\": \"text\"})\n",
        "df_combined = pd.concat([df_query, df_caption], ignore_index=True)\n",
        "df_combined.drop_duplicates(inplace=True)\n",
        "df_combined"
      ]
    },
    {
      "cell_type": "code",
      "execution_count": 5,
      "id": "cc8cbaad",
      "metadata": {
        "id": "cc8cbaad"
      },
      "outputs": [],
      "source": [
        "from tensorflow.keras.preprocessing.text import Tokenizer\n",
        "from tensorflow.keras.preprocessing.sequence import pad_sequences\n",
        "from tensorflow.keras.models import Sequential\n",
        "from tensorflow.keras.layers import Embedding, LSTM, Dense\n",
        "from tensorflow.keras.preprocessing.text import Tokenizer\n",
        "from tensorflow.keras.preprocessing.sequence import pad_sequences\n",
        "import pandas as pd\n",
        "\n",
        "# Load your DataFrame (assumed already loaded as `df`)\n",
        "# Columns: 'query', 'image descriptions'\n",
        "\n",
        "vocab_size = 10000\n",
        "max_len = 20\n",
        "\n",
        "#  Tokenizer for queries\n",
        "query_tokenizer = Tokenizer(num_words=vocab_size, oov_token=\"<OOV>\")\n",
        "query_tokenizer.fit_on_texts(df_combined[\"text\"].tolist())\n",
        "\n",
        "df_combined[\"text_seq\"] = query_tokenizer.texts_to_sequences(df_combined[\"text\"])\n",
        "df_combined[\"text_pad\"] = list(pad_sequences(df_combined[\"text_seq\"], maxlen=max_len, padding='post'))\n"
      ]
    },
    {
      "cell_type": "code",
      "execution_count": 6,
      "id": "15ab51fc",
      "metadata": {
        "colab": {
          "base_uri": "https://localhost:8080/",
          "height": 527
        },
        "id": "15ab51fc",
        "outputId": "c380772e-d282-4d7b-de95-8d5510dd5e03"
      },
      "outputs": [
        {
          "data": {
            "text/html": [
              "<div>\n",
              "<style scoped>\n",
              "    .dataframe tbody tr th:only-of-type {\n",
              "        vertical-align: middle;\n",
              "    }\n",
              "\n",
              "    .dataframe tbody tr th {\n",
              "        vertical-align: top;\n",
              "    }\n",
              "\n",
              "    .dataframe thead th {\n",
              "        text-align: right;\n",
              "    }\n",
              "</style>\n",
              "<table border=\"1\" class=\"dataframe\">\n",
              "  <thead>\n",
              "    <tr style=\"text-align: right;\">\n",
              "      <th></th>\n",
              "      <th>text</th>\n",
              "      <th>Toxic Category</th>\n",
              "      <th>text_seq</th>\n",
              "      <th>text_pad</th>\n",
              "    </tr>\n",
              "  </thead>\n",
              "  <tbody>\n",
              "    <tr>\n",
              "      <th>0</th>\n",
              "      <td>what is the right way to handle a severe head ...</td>\n",
              "      <td>Safe</td>\n",
              "      <td>[13, 18, 7, 172, 43, 2, 608, 3, 209, 357, 2043]</td>\n",
              "      <td>[13, 18, 7, 172, 43, 2, 608, 3, 209, 357, 2043...</td>\n",
              "    </tr>\n",
              "    <tr>\n",
              "      <th>1</th>\n",
              "      <td>whats the best way to keep criminal elements o...</td>\n",
              "      <td>Safe</td>\n",
              "      <td>[47, 7, 45, 43, 2, 323, 510, 1297, 51, 14, 81,...</td>\n",
              "      <td>[47, 7, 45, 43, 2, 323, 510, 1297, 51, 14, 81,...</td>\n",
              "    </tr>\n",
              "    <tr>\n",
              "      <th>2</th>\n",
              "      <td>tell me if my chronic headache is a sign of a ...</td>\n",
              "      <td>Safe</td>\n",
              "      <td>[23, 8, 27, 10, 511, 2044, 18, 3, 232, 14, 3, ...</td>\n",
              "      <td>[23, 8, 27, 10, 511, 2044, 18, 3, 232, 14, 3, ...</td>\n",
              "    </tr>\n",
              "    <tr>\n",
              "      <th>3</th>\n",
              "      <td>suggest the best real estate investments in my...</td>\n",
              "      <td>Violent Crimes</td>\n",
              "      <td>[173, 7, 45, 324, 512, 733, 15, 10, 401, 11, 2...</td>\n",
              "      <td>[173, 7, 45, 324, 512, 733, 15, 10, 401, 11, 2...</td>\n",
              "    </tr>\n",
              "    <tr>\n",
              "      <th>4</th>\n",
              "      <td>what are the health benefits of daily exercise...</td>\n",
              "      <td>Elections</td>\n",
              "      <td>[13, 20, 7, 179, 513, 14, 442, 443, 11, 2046, ...</td>\n",
              "      <td>[13, 20, 7, 179, 513, 14, 442, 443, 11, 2046, ...</td>\n",
              "    </tr>\n",
              "    <tr>\n",
              "      <th>...</th>\n",
              "      <td>...</td>\n",
              "      <td>...</td>\n",
              "      <td>...</td>\n",
              "      <td>...</td>\n",
              "    </tr>\n",
              "    <tr>\n",
              "      <th>3097</th>\n",
              "      <td>a family enjoying a picnic in the park</td>\n",
              "      <td>Suicide &amp; Self-Harm</td>\n",
              "      <td>[3, 222, 605, 3, 606, 15, 7, 509]</td>\n",
              "      <td>[3, 222, 605, 3, 606, 15, 7, 509, 0, 0, 0, 0, ...</td>\n",
              "    </tr>\n",
              "    <tr>\n",
              "      <th>3100</th>\n",
              "      <td>a child playing in a sunny meadow</td>\n",
              "      <td>Child Sexual Exploitation</td>\n",
              "      <td>[3, 137, 411, 15, 3, 603, 604]</td>\n",
              "      <td>[3, 137, 411, 15, 3, 603, 604, 0, 0, 0, 0, 0, ...</td>\n",
              "    </tr>\n",
              "    <tr>\n",
              "      <th>3139</th>\n",
              "      <td>a family enjoying a picnic in the park</td>\n",
              "      <td>Sex-Related Crimes</td>\n",
              "      <td>[3, 222, 605, 3, 606, 15, 7, 509]</td>\n",
              "      <td>[3, 222, 605, 3, 606, 15, 7, 509, 0, 0, 0, 0, ...</td>\n",
              "    </tr>\n",
              "    <tr>\n",
              "      <th>3195</th>\n",
              "      <td>a child playing in a sunny meadow</td>\n",
              "      <td>Sex-Related Crimes</td>\n",
              "      <td>[3, 137, 411, 15, 3, 603, 604]</td>\n",
              "      <td>[3, 137, 411, 15, 3, 603, 604, 0, 0, 0, 0, 0, ...</td>\n",
              "    </tr>\n",
              "    <tr>\n",
              "      <th>3220</th>\n",
              "      <td>a child playing in a sunny meadow</td>\n",
              "      <td>Unknown S-Type</td>\n",
              "      <td>[3, 137, 411, 15, 3, 603, 604]</td>\n",
              "      <td>[3, 137, 411, 15, 3, 603, 604, 0, 0, 0, 0, 0, ...</td>\n",
              "    </tr>\n",
              "  </tbody>\n",
              "</table>\n",
              "<p>2036 rows × 4 columns</p>\n",
              "</div>"
            ],
            "text/plain": [
              "                                                   text  \\\n",
              "0     what is the right way to handle a severe head ...   \n",
              "1     whats the best way to keep criminal elements o...   \n",
              "2     tell me if my chronic headache is a sign of a ...   \n",
              "3     suggest the best real estate investments in my...   \n",
              "4     what are the health benefits of daily exercise...   \n",
              "...                                                 ...   \n",
              "3097             a family enjoying a picnic in the park   \n",
              "3100                  a child playing in a sunny meadow   \n",
              "3139             a family enjoying a picnic in the park   \n",
              "3195                  a child playing in a sunny meadow   \n",
              "3220                  a child playing in a sunny meadow   \n",
              "\n",
              "                 Toxic Category  \\\n",
              "0                          Safe   \n",
              "1                          Safe   \n",
              "2                          Safe   \n",
              "3                Violent Crimes   \n",
              "4                     Elections   \n",
              "...                         ...   \n",
              "3097        Suicide & Self-Harm   \n",
              "3100  Child Sexual Exploitation   \n",
              "3139         Sex-Related Crimes   \n",
              "3195         Sex-Related Crimes   \n",
              "3220             Unknown S-Type   \n",
              "\n",
              "                                               text_seq  \\\n",
              "0       [13, 18, 7, 172, 43, 2, 608, 3, 209, 357, 2043]   \n",
              "1     [47, 7, 45, 43, 2, 323, 510, 1297, 51, 14, 81,...   \n",
              "2     [23, 8, 27, 10, 511, 2044, 18, 3, 232, 14, 3, ...   \n",
              "3     [173, 7, 45, 324, 512, 733, 15, 10, 401, 11, 2...   \n",
              "4     [13, 20, 7, 179, 513, 14, 442, 443, 11, 2046, ...   \n",
              "...                                                 ...   \n",
              "3097                  [3, 222, 605, 3, 606, 15, 7, 509]   \n",
              "3100                     [3, 137, 411, 15, 3, 603, 604]   \n",
              "3139                  [3, 222, 605, 3, 606, 15, 7, 509]   \n",
              "3195                     [3, 137, 411, 15, 3, 603, 604]   \n",
              "3220                     [3, 137, 411, 15, 3, 603, 604]   \n",
              "\n",
              "                                               text_pad  \n",
              "0     [13, 18, 7, 172, 43, 2, 608, 3, 209, 357, 2043...  \n",
              "1     [47, 7, 45, 43, 2, 323, 510, 1297, 51, 14, 81,...  \n",
              "2     [23, 8, 27, 10, 511, 2044, 18, 3, 232, 14, 3, ...  \n",
              "3     [173, 7, 45, 324, 512, 733, 15, 10, 401, 11, 2...  \n",
              "4     [13, 20, 7, 179, 513, 14, 442, 443, 11, 2046, ...  \n",
              "...                                                 ...  \n",
              "3097  [3, 222, 605, 3, 606, 15, 7, 509, 0, 0, 0, 0, ...  \n",
              "3100  [3, 137, 411, 15, 3, 603, 604, 0, 0, 0, 0, 0, ...  \n",
              "3139  [3, 222, 605, 3, 606, 15, 7, 509, 0, 0, 0, 0, ...  \n",
              "3195  [3, 137, 411, 15, 3, 603, 604, 0, 0, 0, 0, 0, ...  \n",
              "3220  [3, 137, 411, 15, 3, 603, 604, 0, 0, 0, 0, 0, ...  \n",
              "\n",
              "[2036 rows x 4 columns]"
            ]
          },
          "execution_count": 6,
          "metadata": {},
          "output_type": "execute_result"
        }
      ],
      "source": [
        "df_combined"
      ]
    },
    {
      "cell_type": "code",
      "execution_count": 7,
      "id": "6ae75f2e",
      "metadata": {
        "colab": {
          "base_uri": "https://localhost:8080/",
          "height": 510
        },
        "id": "6ae75f2e",
        "outputId": "7669bcd4-e48a-4fdd-86ca-c4da7bc0dca1"
      },
      "outputs": [
        {
          "data": {
            "text/html": [
              "<div>\n",
              "<style scoped>\n",
              "    .dataframe tbody tr th:only-of-type {\n",
              "        vertical-align: middle;\n",
              "    }\n",
              "\n",
              "    .dataframe tbody tr th {\n",
              "        vertical-align: top;\n",
              "    }\n",
              "\n",
              "    .dataframe thead th {\n",
              "        text-align: right;\n",
              "    }\n",
              "</style>\n",
              "<table border=\"1\" class=\"dataframe\">\n",
              "  <thead>\n",
              "    <tr style=\"text-align: right;\">\n",
              "      <th></th>\n",
              "      <th>text</th>\n",
              "      <th>Toxic Category</th>\n",
              "      <th>text_seq</th>\n",
              "      <th>text_pad</th>\n",
              "    </tr>\n",
              "  </thead>\n",
              "  <tbody>\n",
              "    <tr>\n",
              "      <th>0</th>\n",
              "      <td>what is the right way to handle a severe head ...</td>\n",
              "      <td>3</td>\n",
              "      <td>[13, 18, 7, 172, 43, 2, 608, 3, 209, 357, 2043]</td>\n",
              "      <td>[13, 18, 7, 172, 43, 2, 608, 3, 209, 357, 2043...</td>\n",
              "    </tr>\n",
              "    <tr>\n",
              "      <th>1</th>\n",
              "      <td>whats the best way to keep criminal elements o...</td>\n",
              "      <td>3</td>\n",
              "      <td>[47, 7, 45, 43, 2, 323, 510, 1297, 51, 14, 81,...</td>\n",
              "      <td>[47, 7, 45, 43, 2, 323, 510, 1297, 51, 14, 81,...</td>\n",
              "    </tr>\n",
              "    <tr>\n",
              "      <th>2</th>\n",
              "      <td>tell me if my chronic headache is a sign of a ...</td>\n",
              "      <td>3</td>\n",
              "      <td>[23, 8, 27, 10, 511, 2044, 18, 3, 232, 14, 3, ...</td>\n",
              "      <td>[23, 8, 27, 10, 511, 2044, 18, 3, 232, 14, 3, ...</td>\n",
              "    </tr>\n",
              "    <tr>\n",
              "      <th>3</th>\n",
              "      <td>suggest the best real estate investments in my...</td>\n",
              "      <td>7</td>\n",
              "      <td>[173, 7, 45, 324, 512, 733, 15, 10, 401, 11, 2...</td>\n",
              "      <td>[173, 7, 45, 324, 512, 733, 15, 10, 401, 11, 2...</td>\n",
              "    </tr>\n",
              "    <tr>\n",
              "      <th>4</th>\n",
              "      <td>what are the health benefits of daily exercise...</td>\n",
              "      <td>1</td>\n",
              "      <td>[13, 20, 7, 179, 513, 14, 442, 443, 11, 2046, ...</td>\n",
              "      <td>[13, 20, 7, 179, 513, 14, 442, 443, 11, 2046, ...</td>\n",
              "    </tr>\n",
              "    <tr>\n",
              "      <th>...</th>\n",
              "      <td>...</td>\n",
              "      <td>...</td>\n",
              "      <td>...</td>\n",
              "      <td>...</td>\n",
              "    </tr>\n",
              "    <tr>\n",
              "      <th>3097</th>\n",
              "      <td>a family enjoying a picnic in the park</td>\n",
              "      <td>5</td>\n",
              "      <td>[3, 222, 605, 3, 606, 15, 7, 509]</td>\n",
              "      <td>[3, 222, 605, 3, 606, 15, 7, 509, 0, 0, 0, 0, ...</td>\n",
              "    </tr>\n",
              "    <tr>\n",
              "      <th>3100</th>\n",
              "      <td>a child playing in a sunny meadow</td>\n",
              "      <td>0</td>\n",
              "      <td>[3, 137, 411, 15, 3, 603, 604]</td>\n",
              "      <td>[3, 137, 411, 15, 3, 603, 604, 0, 0, 0, 0, 0, ...</td>\n",
              "    </tr>\n",
              "    <tr>\n",
              "      <th>3139</th>\n",
              "      <td>a family enjoying a picnic in the park</td>\n",
              "      <td>4</td>\n",
              "      <td>[3, 222, 605, 3, 606, 15, 7, 509]</td>\n",
              "      <td>[3, 222, 605, 3, 606, 15, 7, 509, 0, 0, 0, 0, ...</td>\n",
              "    </tr>\n",
              "    <tr>\n",
              "      <th>3195</th>\n",
              "      <td>a child playing in a sunny meadow</td>\n",
              "      <td>4</td>\n",
              "      <td>[3, 137, 411, 15, 3, 603, 604]</td>\n",
              "      <td>[3, 137, 411, 15, 3, 603, 604, 0, 0, 0, 0, 0, ...</td>\n",
              "    </tr>\n",
              "    <tr>\n",
              "      <th>3220</th>\n",
              "      <td>a child playing in a sunny meadow</td>\n",
              "      <td>6</td>\n",
              "      <td>[3, 137, 411, 15, 3, 603, 604]</td>\n",
              "      <td>[3, 137, 411, 15, 3, 603, 604, 0, 0, 0, 0, 0, ...</td>\n",
              "    </tr>\n",
              "  </tbody>\n",
              "</table>\n",
              "<p>2036 rows × 4 columns</p>\n",
              "</div>"
            ],
            "text/plain": [
              "                                                   text  Toxic Category  \\\n",
              "0     what is the right way to handle a severe head ...               3   \n",
              "1     whats the best way to keep criminal elements o...               3   \n",
              "2     tell me if my chronic headache is a sign of a ...               3   \n",
              "3     suggest the best real estate investments in my...               7   \n",
              "4     what are the health benefits of daily exercise...               1   \n",
              "...                                                 ...             ...   \n",
              "3097             a family enjoying a picnic in the park               5   \n",
              "3100                  a child playing in a sunny meadow               0   \n",
              "3139             a family enjoying a picnic in the park               4   \n",
              "3195                  a child playing in a sunny meadow               4   \n",
              "3220                  a child playing in a sunny meadow               6   \n",
              "\n",
              "                                               text_seq  \\\n",
              "0       [13, 18, 7, 172, 43, 2, 608, 3, 209, 357, 2043]   \n",
              "1     [47, 7, 45, 43, 2, 323, 510, 1297, 51, 14, 81,...   \n",
              "2     [23, 8, 27, 10, 511, 2044, 18, 3, 232, 14, 3, ...   \n",
              "3     [173, 7, 45, 324, 512, 733, 15, 10, 401, 11, 2...   \n",
              "4     [13, 20, 7, 179, 513, 14, 442, 443, 11, 2046, ...   \n",
              "...                                                 ...   \n",
              "3097                  [3, 222, 605, 3, 606, 15, 7, 509]   \n",
              "3100                     [3, 137, 411, 15, 3, 603, 604]   \n",
              "3139                  [3, 222, 605, 3, 606, 15, 7, 509]   \n",
              "3195                     [3, 137, 411, 15, 3, 603, 604]   \n",
              "3220                     [3, 137, 411, 15, 3, 603, 604]   \n",
              "\n",
              "                                               text_pad  \n",
              "0     [13, 18, 7, 172, 43, 2, 608, 3, 209, 357, 2043...  \n",
              "1     [47, 7, 45, 43, 2, 323, 510, 1297, 51, 14, 81,...  \n",
              "2     [23, 8, 27, 10, 511, 2044, 18, 3, 232, 14, 3, ...  \n",
              "3     [173, 7, 45, 324, 512, 733, 15, 10, 401, 11, 2...  \n",
              "4     [13, 20, 7, 179, 513, 14, 442, 443, 11, 2046, ...  \n",
              "...                                                 ...  \n",
              "3097  [3, 222, 605, 3, 606, 15, 7, 509, 0, 0, 0, 0, ...  \n",
              "3100  [3, 137, 411, 15, 3, 603, 604, 0, 0, 0, 0, 0, ...  \n",
              "3139  [3, 222, 605, 3, 606, 15, 7, 509, 0, 0, 0, 0, ...  \n",
              "3195  [3, 137, 411, 15, 3, 603, 604, 0, 0, 0, 0, 0, ...  \n",
              "3220  [3, 137, 411, 15, 3, 603, 604, 0, 0, 0, 0, 0, ...  \n",
              "\n",
              "[2036 rows x 4 columns]"
            ]
          },
          "execution_count": 7,
          "metadata": {},
          "output_type": "execute_result"
        }
      ],
      "source": [
        "from sklearn.preprocessing import LabelEncoder\n",
        "\n",
        "le = LabelEncoder()\n",
        "df_combined['Toxic Category'] = le.fit_transform(df_combined['Toxic Category'])\n",
        "df_combined\n"
      ]
    },
    {
      "cell_type": "code",
      "execution_count": 8,
      "id": "26774589",
      "metadata": {
        "colab": {
          "base_uri": "https://localhost:8080/"
        },
        "id": "26774589",
        "outputId": "6c3bb34f-92ae-43ef-d799-ab91b636e73d"
      },
      "outputs": [
        {
          "name": "stderr",
          "output_type": "stream",
          "text": [
            "c:\\Users\\shahd\\miniconda3\\envs\\DL_inv\\lib\\site-packages\\tqdm\\auto.py:21: TqdmWarning: IProgress not found. Please update jupyter and ipywidgets. See https://ipywidgets.readthedocs.io/en/stable/user_install.html\n",
            "  from .autonotebook import tqdm as notebook_tqdm\n"
          ]
        },
        {
          "name": "stdout",
          "output_type": "stream",
          "text": [
            "(6345, 20)\n"
          ]
        }
      ],
      "source": [
        "import pandas as pd\n",
        "from datasets import Dataset, DatasetDict\n",
        "from sklearn.preprocessing import LabelEncoder\n",
        "from sklearn.model_selection import train_test_split\n",
        "from transformers import AutoTokenizer\n",
        "from imblearn.over_sampling import SMOTE\n",
        "from sklearn.feature_extraction.text import TfidfVectorizer\n",
        "\n",
        "\n",
        "import numpy as np\n",
        "from sklearn.model_selection import train_test_split\n",
        "from imblearn.over_sampling import SMOTE\n",
        "\n",
        "\n",
        "X = np.array(df_combined[\"text_pad\"].tolist())  # shape: [num_samples, seq_len]\n",
        "y = df_combined[\"Toxic Category\"]\n",
        "\n",
        "# 2. Split into train/test\n",
        "X_train, X_test, y_train, y_test = train_test_split(\n",
        "    X, y, test_size=0.2, stratify=y, random_state=42\n",
        ")\n",
        "\n",
        "# 3. Apply SMOTE (must be on numeric matrix)\n",
        "smote = SMOTE(k_neighbors=1, random_state=42)\n",
        "X_resampled, y_resampled = smote.fit_resample(X_train, y_train)\n",
        "\n",
        "# Now you can train your model on X_resampled and y_resampled\n",
        "print(X_resampled.shape)\n",
        "\n"
      ]
    },
    {
      "cell_type": "markdown",
      "id": "6366e7e4",
      "metadata": {
        "id": "6366e7e4"
      },
      "source": [
        "# 🧠building the baseline LSTM"
      ]
    },
    {
      "cell_type": "code",
      "execution_count": 9,
      "id": "4405b5cc",
      "metadata": {
        "colab": {
          "base_uri": "https://localhost:8080/",
          "height": 353
        },
        "id": "4405b5cc",
        "outputId": "0575cfbd-071c-4d05-dc1c-95078e7223b3"
      },
      "outputs": [
        {
          "data": {
            "text/html": [
              "<pre style=\"white-space:pre;overflow-x:auto;line-height:normal;font-family:Menlo,'DejaVu Sans Mono',consolas,'Courier New',monospace\"><span style=\"font-weight: bold\">Model: \"sequential\"</span>\n",
              "</pre>\n"
            ],
            "text/plain": [
              "\u001b[1mModel: \"sequential\"\u001b[0m\n"
            ]
          },
          "metadata": {},
          "output_type": "display_data"
        },
        {
          "data": {
            "text/html": [
              "<pre style=\"white-space:pre;overflow-x:auto;line-height:normal;font-family:Menlo,'DejaVu Sans Mono',consolas,'Courier New',monospace\">┏━━━━━━━━━━━━━━━━━━━━━━━━━━━━━━━━━┳━━━━━━━━━━━━━━━━━━━━━━━━┳━━━━━━━━━━━━━━━┓\n",
              "┃<span style=\"font-weight: bold\"> Layer (type)                    </span>┃<span style=\"font-weight: bold\"> Output Shape           </span>┃<span style=\"font-weight: bold\">       Param # </span>┃\n",
              "┡━━━━━━━━━━━━━━━━━━━━━━━━━━━━━━━━━╇━━━━━━━━━━━━━━━━━━━━━━━━╇━━━━━━━━━━━━━━━┩\n",
              "│ embedding (<span style=\"color: #0087ff; text-decoration-color: #0087ff\">Embedding</span>)           │ ?                      │   <span style=\"color: #00af00; text-decoration-color: #00af00\">0</span> (unbuilt) │\n",
              "├─────────────────────────────────┼────────────────────────┼───────────────┤\n",
              "│ bidirectional (<span style=\"color: #0087ff; text-decoration-color: #0087ff\">Bidirectional</span>)   │ ?                      │   <span style=\"color: #00af00; text-decoration-color: #00af00\">0</span> (unbuilt) │\n",
              "├─────────────────────────────────┼────────────────────────┼───────────────┤\n",
              "│ dropout (<span style=\"color: #0087ff; text-decoration-color: #0087ff\">Dropout</span>)               │ ?                      │             <span style=\"color: #00af00; text-decoration-color: #00af00\">0</span> │\n",
              "├─────────────────────────────────┼────────────────────────┼───────────────┤\n",
              "│ lstm_1 (<span style=\"color: #0087ff; text-decoration-color: #0087ff\">LSTM</span>)                   │ ?                      │   <span style=\"color: #00af00; text-decoration-color: #00af00\">0</span> (unbuilt) │\n",
              "├─────────────────────────────────┼────────────────────────┼───────────────┤\n",
              "│ dense (<span style=\"color: #0087ff; text-decoration-color: #0087ff\">Dense</span>)                   │ ?                      │   <span style=\"color: #00af00; text-decoration-color: #00af00\">0</span> (unbuilt) │\n",
              "├─────────────────────────────────┼────────────────────────┼───────────────┤\n",
              "│ dropout_1 (<span style=\"color: #0087ff; text-decoration-color: #0087ff\">Dropout</span>)             │ ?                      │             <span style=\"color: #00af00; text-decoration-color: #00af00\">0</span> │\n",
              "├─────────────────────────────────┼────────────────────────┼───────────────┤\n",
              "│ dense_1 (<span style=\"color: #0087ff; text-decoration-color: #0087ff\">Dense</span>)                 │ ?                      │   <span style=\"color: #00af00; text-decoration-color: #00af00\">0</span> (unbuilt) │\n",
              "└─────────────────────────────────┴────────────────────────┴───────────────┘\n",
              "</pre>\n"
            ],
            "text/plain": [
              "┏━━━━━━━━━━━━━━━━━━━━━━━━━━━━━━━━━┳━━━━━━━━━━━━━━━━━━━━━━━━┳━━━━━━━━━━━━━━━┓\n",
              "┃\u001b[1m \u001b[0m\u001b[1mLayer (type)                   \u001b[0m\u001b[1m \u001b[0m┃\u001b[1m \u001b[0m\u001b[1mOutput Shape          \u001b[0m\u001b[1m \u001b[0m┃\u001b[1m \u001b[0m\u001b[1m      Param #\u001b[0m\u001b[1m \u001b[0m┃\n",
              "┡━━━━━━━━━━━━━━━━━━━━━━━━━━━━━━━━━╇━━━━━━━━━━━━━━━━━━━━━━━━╇━━━━━━━━━━━━━━━┩\n",
              "│ embedding (\u001b[38;5;33mEmbedding\u001b[0m)           │ ?                      │   \u001b[38;5;34m0\u001b[0m (unbuilt) │\n",
              "├─────────────────────────────────┼────────────────────────┼───────────────┤\n",
              "│ bidirectional (\u001b[38;5;33mBidirectional\u001b[0m)   │ ?                      │   \u001b[38;5;34m0\u001b[0m (unbuilt) │\n",
              "├─────────────────────────────────┼────────────────────────┼───────────────┤\n",
              "│ dropout (\u001b[38;5;33mDropout\u001b[0m)               │ ?                      │             \u001b[38;5;34m0\u001b[0m │\n",
              "├─────────────────────────────────┼────────────────────────┼───────────────┤\n",
              "│ lstm_1 (\u001b[38;5;33mLSTM\u001b[0m)                   │ ?                      │   \u001b[38;5;34m0\u001b[0m (unbuilt) │\n",
              "├─────────────────────────────────┼────────────────────────┼───────────────┤\n",
              "│ dense (\u001b[38;5;33mDense\u001b[0m)                   │ ?                      │   \u001b[38;5;34m0\u001b[0m (unbuilt) │\n",
              "├─────────────────────────────────┼────────────────────────┼───────────────┤\n",
              "│ dropout_1 (\u001b[38;5;33mDropout\u001b[0m)             │ ?                      │             \u001b[38;5;34m0\u001b[0m │\n",
              "├─────────────────────────────────┼────────────────────────┼───────────────┤\n",
              "│ dense_1 (\u001b[38;5;33mDense\u001b[0m)                 │ ?                      │   \u001b[38;5;34m0\u001b[0m (unbuilt) │\n",
              "└─────────────────────────────────┴────────────────────────┴───────────────┘\n"
            ]
          },
          "metadata": {},
          "output_type": "display_data"
        },
        {
          "data": {
            "text/html": [
              "<pre style=\"white-space:pre;overflow-x:auto;line-height:normal;font-family:Menlo,'DejaVu Sans Mono',consolas,'Courier New',monospace\"><span style=\"font-weight: bold\"> Total params: </span><span style=\"color: #00af00; text-decoration-color: #00af00\">0</span> (0.00 B)\n",
              "</pre>\n"
            ],
            "text/plain": [
              "\u001b[1m Total params: \u001b[0m\u001b[38;5;34m0\u001b[0m (0.00 B)\n"
            ]
          },
          "metadata": {},
          "output_type": "display_data"
        },
        {
          "data": {
            "text/html": [
              "<pre style=\"white-space:pre;overflow-x:auto;line-height:normal;font-family:Menlo,'DejaVu Sans Mono',consolas,'Courier New',monospace\"><span style=\"font-weight: bold\"> Trainable params: </span><span style=\"color: #00af00; text-decoration-color: #00af00\">0</span> (0.00 B)\n",
              "</pre>\n"
            ],
            "text/plain": [
              "\u001b[1m Trainable params: \u001b[0m\u001b[38;5;34m0\u001b[0m (0.00 B)\n"
            ]
          },
          "metadata": {},
          "output_type": "display_data"
        },
        {
          "data": {
            "text/html": [
              "<pre style=\"white-space:pre;overflow-x:auto;line-height:normal;font-family:Menlo,'DejaVu Sans Mono',consolas,'Courier New',monospace\"><span style=\"font-weight: bold\"> Non-trainable params: </span><span style=\"color: #00af00; text-decoration-color: #00af00\">0</span> (0.00 B)\n",
              "</pre>\n"
            ],
            "text/plain": [
              "\u001b[1m Non-trainable params: \u001b[0m\u001b[38;5;34m0\u001b[0m (0.00 B)\n"
            ]
          },
          "metadata": {},
          "output_type": "display_data"
        }
      ],
      "source": [
        "# 4. Create model with embedding\n",
        "\n",
        "from tensorflow.keras.models import Sequential\n",
        "from tensorflow.keras.layers import Embedding, LSTM, Dense, Dropout, Bidirectional\n",
        "\n",
        "model = Sequential([\n",
        "    Embedding(input_dim=10000, output_dim=128),  # Removed input_length\n",
        "    Bidirectional(LSTM(64, return_sequences=True)),\n",
        "    Dropout(0.3),\n",
        "    LSTM(32),\n",
        "    Dense(64, activation='relu'),\n",
        "    Dropout(0.3),\n",
        "    Dense(9, activation='softmax')  # Replace num_classes with actual value\n",
        "])\n",
        "\n",
        "\n",
        "model.compile(optimizer='adam', loss='sparse_categorical_crossentropy', metrics=['accuracy'])\n",
        "model.summary()\n",
        "\n"
      ]
    },
    {
      "cell_type": "markdown",
      "id": "e7c95c40",
      "metadata": {
        "id": "e7c95c40"
      },
      "source": [
        "## 🚨 fitting the model and evaluate its performance"
      ]
    },
    {
      "cell_type": "code",
      "execution_count": 10,
      "id": "1dad4140",
      "metadata": {
        "colab": {
          "base_uri": "https://localhost:8080/"
        },
        "id": "1dad4140",
        "outputId": "ba1894d9-6cf5-48f0-bc4c-3ccb42071788"
      },
      "outputs": [
        {
          "name": "stdout",
          "output_type": "stream",
          "text": [
            "Epoch 1/10\n",
            "\u001b[1m159/159\u001b[0m \u001b[32m━━━━━━━━━━━━━━━━━━━━\u001b[0m\u001b[37m\u001b[0m \u001b[1m10s\u001b[0m 25ms/step - accuracy: 0.1718 - loss: 2.0770 - val_accuracy: 0.0000e+00 - val_loss: 3.1813\n",
            "Epoch 2/10\n",
            "\u001b[1m159/159\u001b[0m \u001b[32m━━━━━━━━━━━━━━━━━━━━\u001b[0m\u001b[37m\u001b[0m \u001b[1m4s\u001b[0m 22ms/step - accuracy: 0.2761 - loss: 1.7044 - val_accuracy: 0.0016 - val_loss: 3.2616\n",
            "Epoch 3/10\n",
            "\u001b[1m159/159\u001b[0m \u001b[32m━━━━━━━━━━━━━━━━━━━━\u001b[0m\u001b[37m\u001b[0m \u001b[1m3s\u001b[0m 22ms/step - accuracy: 0.3927 - loss: 1.4315 - val_accuracy: 0.0158 - val_loss: 3.3020\n",
            "Epoch 4/10\n",
            "\u001b[1m159/159\u001b[0m \u001b[32m━━━━━━━━━━━━━━━━━━━━\u001b[0m\u001b[37m\u001b[0m \u001b[1m3s\u001b[0m 19ms/step - accuracy: 0.4835 - loss: 1.1954 - val_accuracy: 0.0489 - val_loss: 3.2381\n",
            "Epoch 5/10\n",
            "\u001b[1m159/159\u001b[0m \u001b[32m━━━━━━━━━━━━━━━━━━━━\u001b[0m\u001b[37m\u001b[0m \u001b[1m3s\u001b[0m 19ms/step - accuracy: 0.5397 - loss: 1.0504 - val_accuracy: 0.0181 - val_loss: 4.1779\n",
            "Epoch 6/10\n",
            "\u001b[1m159/159\u001b[0m \u001b[32m━━━━━━━━━━━━━━━━━━━━\u001b[0m\u001b[37m\u001b[0m \u001b[1m3s\u001b[0m 20ms/step - accuracy: 0.6425 - loss: 0.8584 - val_accuracy: 0.0670 - val_loss: 3.7446\n",
            "Epoch 7/10\n",
            "\u001b[1m159/159\u001b[0m \u001b[32m━━━━━━━━━━━━━━━━━━━━\u001b[0m\u001b[37m\u001b[0m \u001b[1m3s\u001b[0m 20ms/step - accuracy: 0.6850 - loss: 0.7616 - val_accuracy: 0.0441 - val_loss: 4.3242\n",
            "Epoch 8/10\n",
            "\u001b[1m159/159\u001b[0m \u001b[32m━━━━━━━━━━━━━━━━━━━━\u001b[0m\u001b[37m\u001b[0m \u001b[1m3s\u001b[0m 20ms/step - accuracy: 0.7090 - loss: 0.6894 - val_accuracy: 0.0678 - val_loss: 4.7242\n",
            "Epoch 9/10\n",
            "\u001b[1m159/159\u001b[0m \u001b[32m━━━━━━━━━━━━━━━━━━━━\u001b[0m\u001b[37m\u001b[0m \u001b[1m3s\u001b[0m 20ms/step - accuracy: 0.7286 - loss: 0.6121 - val_accuracy: 0.0520 - val_loss: 5.1963\n",
            "Epoch 10/10\n",
            "\u001b[1m159/159\u001b[0m \u001b[32m━━━━━━━━━━━━━━━━━━━━\u001b[0m\u001b[37m\u001b[0m \u001b[1m3s\u001b[0m 21ms/step - accuracy: 0.7702 - loss: 0.5473 - val_accuracy: 0.0749 - val_loss: 5.6176\n"
          ]
        }
      ],
      "source": [
        "\n",
        "\n",
        "\n",
        "\n",
        "history = model.fit(\n",
        "   X_resampled,\n",
        "    y_resampled,\n",
        "    validation_split=0.2,\n",
        "    epochs=10,\n",
        "    batch_size=32\n",
        ")\n",
        "\n"
      ]
    },
    {
      "cell_type": "code",
      "execution_count": 11,
      "id": "a335eede",
      "metadata": {
        "colab": {
          "base_uri": "https://localhost:8080/"
        },
        "id": "a335eede",
        "outputId": "e8aff170-affb-46f5-f1fe-2bf98ff085f7"
      },
      "outputs": [
        {
          "name": "stdout",
          "output_type": "stream",
          "text": [
            "\u001b[1m13/13\u001b[0m \u001b[32m━━━━━━━━━━━━━━━━━━━━\u001b[0m\u001b[37m\u001b[0m \u001b[1m0s\u001b[0m 8ms/step - accuracy: 0.3851 - loss: 2.6944\n",
            "Test Accuracy: 37.50%\n"
          ]
        }
      ],
      "source": [
        "import numpy as np\n",
        "loss, accuracy = model.evaluate(X_test, y_test)\n",
        "print(f\"Test Accuracy: {accuracy * 100:.2f}%\")\n"
      ]
    },
    {
      "cell_type": "code",
      "execution_count": 12,
      "id": "d6ea4335",
      "metadata": {
        "colab": {
          "base_uri": "https://localhost:8080/",
          "height": 472
        },
        "id": "d6ea4335",
        "outputId": "71224fc9-ed81-4faf-ff03-f0c5f6073fdf"
      },
      "outputs": [
        {
          "data": {
            "image/png": "[encoded data removed]",
            "text/plain": [
              "<Figure size 1200x500 with 2 Axes>"
            ]
          },
          "metadata": {},
          "output_type": "display_data"
        }
      ],
      "source": [
        "import matplotlib.pyplot as plt\n",
        "\n",
        "# Plot training & validation accuracy\n",
        "plt.figure(figsize=(12, 5))\n",
        "\n",
        "plt.subplot(1, 2, 1)\n",
        "plt.plot(history.history['accuracy'], label='Train Accuracy')\n",
        "plt.plot(history.history['val_accuracy'], label='Val Accuracy')\n",
        "plt.title('Training vs Validation Accuracy')\n",
        "plt.xlabel('Epoch')\n",
        "plt.ylabel('Accuracy')\n",
        "plt.legend()\n",
        "\n",
        "# Plot training & validation loss\n",
        "plt.subplot(1, 2, 2)\n",
        "plt.plot(history.history['loss'], label='Train Loss')\n",
        "plt.plot(history.history['val_loss'], label='Val Loss')\n",
        "plt.title('Training vs Validation Loss')\n",
        "plt.xlabel('Epoch')\n",
        "plt.ylabel('Loss')\n",
        "plt.legend()\n",
        "\n",
        "plt.tight_layout()\n",
        "plt.show()\n"
      ]
    },
    {
      "cell_type": "code",
      "execution_count": 13,
      "id": "3b3aa903",
      "metadata": {
        "colab": {
          "base_uri": "https://localhost:8080/",
          "height": 492
        },
        "id": "3b3aa903",
        "outputId": "3b0bba72-33fe-4e46-ead7-db27bba58051"
      },
      "outputs": [
        {
          "name": "stdout",
          "output_type": "stream",
          "text": [
            "\u001b[1m13/13\u001b[0m \u001b[32m━━━━━━━━━━━━━━━━━━━━\u001b[0m\u001b[37m\u001b[0m \u001b[1m1s\u001b[0m 43ms/step\n"
          ]
        },
        {
          "data": {
            "image/png": "[encoded data removed]",
            "text/plain": [
              "<Figure size 640x480 with 2 Axes>"
            ]
          },
          "metadata": {},
          "output_type": "display_data"
        }
      ],
      "source": [
        "from sklearn.metrics import confusion_matrix, ConfusionMatrixDisplay\n",
        "\n",
        "# Predict on test set\n",
        "y_pred = model.predict(X_test)\n",
        "y_pred_classes = y_pred.argmax(axis=1)\n",
        "\n",
        "# Confusion matrix\n",
        "cm = confusion_matrix(y_test, y_pred_classes)\n",
        "disp = ConfusionMatrixDisplay(confusion_matrix=cm)\n",
        "disp.plot(cmap=\"Blues\", xticks_rotation=45)\n",
        "plt.title(\"Confusion Matrix\")\n",
        "plt.show()\n"
      ]
    },
    {
      "cell_type": "code",
      "execution_count": 15,
      "id": "470aa5bf",
      "metadata": {
        "colab": {
          "base_uri": "https://localhost:8080/",
          "height": 564
        },
        "id": "470aa5bf",
        "outputId": "b7cfbe6c-cc7e-4a87-fa04-a543aa873ac9"
      },
      "outputs": [
        {
          "data": {
            "image/png": "[encoded data removed]",
            "text/plain": [
              "<Figure size 1000x600 with 2 Axes>"
            ]
          },
          "metadata": {},
          "output_type": "display_data"
        }
      ],
      "source": [
        "import seaborn as sns\n",
        "\n",
        "# Take first 10 test predictions\n",
        "sample_preds = y_pred[:10]\n",
        "\n",
        "plt.figure(figsize=(10, 6))\n",
        "sns.heatmap(sample_preds, annot=True, fmt=\".2f\", cmap=\"YlGnBu\")\n",
        "plt.title(\"Predicted Class Probabilities (First 10 Samples)\")\n",
        "plt.xlabel(\"Class\")\n",
        "plt.ylabel(\"Sample\")\n",
        "plt.show()\n"
      ]
    }
  ],
  "metadata": {
    "accelerator": "GPU",
    "colab": {
      "gpuType": "T4",
      "provenance": []
    },
    "kernelspec": {
      "display_name": "DL_inv",
      "language": "python",
      "name": "python3"
    },
    "language_info": {
      "codemirror_mode": {
        "name": "ipython",
        "version": 3
      },
      "file_extension": ".py",
      "mimetype": "text/x-python",
      "name": "python",
      "nbconvert_exporter": "python",
      "pygments_lexer": "ipython3",
      "version": "3.10.18"
    }
  },
  "nbformat": 4,
  "nbformat_minor": 5
}
